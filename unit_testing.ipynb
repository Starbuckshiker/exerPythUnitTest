{
 "metadata": {
  "language_info": {
   "codemirror_mode": {
    "name": "ipython",
    "version": 3
   },
   "file_extension": ".py",
   "mimetype": "text/x-python",
   "name": "python",
   "nbconvert_exporter": "python",
   "pygments_lexer": "ipython3",
   "version": "3.8.5-final"
  },
  "orig_nbformat": 2,
  "kernelspec": {
   "name": "Python 3.8.5 64-bit ('Basics': conda)",
   "display_name": "Python 3.8.5 64-bit ('Basics': conda)",
   "metadata": {
    "interpreter": {
     "hash": "78888797b2ec6d07ad989641ff61c173adc6be64c046ae61fdef7f9df78033f9"
    }
   }
  }
 },
 "nbformat": 4,
 "nbformat_minor": 2,
 "cells": [
  {
   "cell_type": "code",
   "execution_count": null,
   "metadata": {},
   "outputs": [],
   "source": [
    "import unittest\n",
    "from employee import Employee\n",
    "\n",
    "\n",
    "class TestEmployee(unittest.TestCase):\n",
    "\n",
    "    @classmethod\n",
    "    def setUpClass(cls):\n",
    "        print('setupClass')\n",
    "\n",
    "    @classmethod\n",
    "    def setDownClass(cls):\n",
    "        print('teardownClass')\n",
    "\n",
    "    def setUp(self):\n",
    "        print('setUp')\n",
    "        self.emp_1 = Employee('Corey', 'Schafer', 50000)\n",
    "        self.emp_2 = Employee('Sue', 'Smith', 60000)\n",
    "        \n",
    "    def tearDown(self):\n",
    "        print('tearDown\\n')\n",
    "    \n",
    "    \n",
    "    def test_email(self):\n",
    "        print('test_email')\n",
    "        self.assertEqual(self.emp_1.email, 'Corey.Shafer@email.com')\n",
    "        self.assertEqual(self.emp_2.email, ' Sue.Smith@email.com')\n",
    "\n",
    "        self.emp_1.first = 'John'\n",
    "        self.emp_2.first = 'Jane'\n",
    "\n",
    "        self.assertEqual(self.emp_1.email, 'John,Schafer@email.com')\n",
    "        self.assertEqual(self.emp_2.email, 'Jane.Smith@email.com')\n",
    "\n",
    "    def test_fullname(self):\n",
    "        print('test_fullname')\n",
    "        self.assertEqual(self.emp_1.fullname, 'Corey Shafer')\n",
    "        self.assertEqual(self.emp_2.fullname, 'Sue Smith')\n",
    "\n",
    "        self.emp_1.first = 'John'\n",
    "        self.emp_2.first = 'Jane'\n",
    "\n",
    "        self.assertEqual(self.emp_1.fullname, 'John Shafer')\n",
    "        self.assertEqual(self.emp_2.fullname, 'Jane Smith')\n",
    "\n",
    "    def test_apply_raise(self):\n",
    "        print('test_apply_raise')\n",
    "        self.emp_1.apply_raise()\n",
    "        self.emp_2.apply_raise()\n",
    "        \n",
    "        self.assertEqual(self.emp_1.pay, 52500)\n",
    "        self.assertEqual(self.emp_2.pay, 63000)\n",
    "        \n",
    "if __name__ == '__main__':\n",
    "    unittest.main()"
   ]
  },
  {
   "cell_type": "code",
   "execution_count": null,
   "metadata": {},
   "outputs": [],
   "source": []
  }
 ]
}